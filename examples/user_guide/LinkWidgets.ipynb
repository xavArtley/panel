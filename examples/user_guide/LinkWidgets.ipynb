{
 "cells": [
  {
   "cell_type": "markdown",
   "metadata": {},
   "source": [
    "Based on philippjfr [notebook](https://anaconda.org/philippjfr/widgetlinks/notebook)"
   ]
  },
  {
   "cell_type": "code",
   "execution_count": null,
   "metadata": {},
   "outputs": [],
   "source": [
    "import param\n",
    "import panel as pn\n",
    "import numpy as np\n",
    "import holoviews as hv\n",
    "from panel.links import WidgetLink\n",
    "\n",
    "pn.extension()"
   ]
  },
  {
   "cell_type": "markdown",
   "metadata": {},
   "source": [
    "## Linking widgets to point size and color"
   ]
  },
  {
   "cell_type": "code",
   "execution_count": null,
   "metadata": {},
   "outputs": [],
   "source": [
    "size_widget = pn.widgets.FloatSlider(value=5, start=3, end=20, name='Size')\n",
    "color_widget = pn.widgets.TextInput(value='black', name='Color')\n",
    "\n",
    "points = hv.Points(np.random.rand(10, 2)).options(padding=0.1)\n",
    "WidgetLink(size_widget, points, target_model='glyph', target_property='size')\n",
    "WidgetLink(color_widget, points, target_model='glyph', target_property='fill_color')\n",
    "pn.Row(points, pn.layout.WidgetBox(size_widget, color_widget))"
   ]
  },
  {
   "cell_type": "markdown",
   "metadata": {},
   "source": [
    "## Linking widgets to ranges"
   ]
  },
  {
   "cell_type": "code",
   "execution_count": null,
   "metadata": {},
   "outputs": [],
   "source": [
    "range_widget = pn.widgets.RangeSlider(value=(0, 1000), start=0, end=1000, name='x-axis range')\n",
    "curve = hv.Curve(np.random.randn(1000).cumsum()).options(width=500)\n",
    "\n",
    "code = \"\"\"\n",
    "x_range.start = source.value[0]\n",
    "x_range.end = source.value[1]\n",
    "\"\"\"\n",
    "WidgetLink(range_widget, curve, code=code)\n",
    "\n",
    "pn.Row(curve, range_widget)"
   ]
  },
  {
   "cell_type": "markdown",
   "metadata": {},
   "source": [
    "## Linking widgets to color mapper"
   ]
  },
  {
   "cell_type": "code",
   "execution_count": null,
   "metadata": {},
   "outputs": [],
   "source": [
    "range_widget = pn.widgets.RangeSlider(value=(-2, 2), start=-2., end=2., name='color range')\n",
    "ys, xs = np.mgrid[0:100, 0:100]/20\n",
    "img = hv.Image(np.sin(xs*ys)+np.cos(xs*ys**2)).options(colorbar=True, width=400)\n",
    "\n",
    "code = \"\"\"\n",
    "color_mapper.low = source.value[0]\n",
    "color_mapper.high = source.value[1]\n",
    "\"\"\"\n",
    "WidgetLink(range_widget, img, code=code)\n",
    "\n",
    "pn.Row(img, range_widget)"
   ]
  },
  {
   "cell_type": "markdown",
   "metadata": {},
   "source": [
    "## Link widget to title"
   ]
  },
  {
   "cell_type": "code",
   "execution_count": null,
   "metadata": {},
   "outputs": [],
   "source": [
    "title_widget = pn.widgets.TextInput(value='A title', name='Type a new title here:')\n",
    "points = hv.Points(np.random.rand(10, 2), label='A title').options(padding=0.1, size=5, color='black')\n",
    "\n",
    "code = \"\"\"\n",
    "plot.title.text = source.value\n",
    "\"\"\"\n",
    "WidgetLink(title_widget, points, code=code)\n",
    "\n",
    "pn.Column(title_widget, points)"
   ]
  },
  {
   "cell_type": "markdown",
   "metadata": {},
   "source": [
    "## Link Player to range"
   ]
  },
  {
   "cell_type": "code",
   "execution_count": null,
   "metadata": {},
   "outputs": [],
   "source": [
    "player = pn.widgets.Player(length=800, loop_policy='reflect', interval=20)\n",
    "curve = hv.Curve(np.random.randn(1000).cumsum()).options(width=500)\n",
    "\n",
    "code = \"\"\"\n",
    "x_range.start = source.value\n",
    "x_range.end = source.value+200\n",
    "\"\"\"\n",
    "WidgetLink(player, curve, code=code)\n",
    "\n",
    "pn.Column(curve, pn.Row(pn.Spacer(width=70), player))"
   ]
  },
  {
   "cell_type": "markdown",
   "metadata": {},
   "source": [
    "## Select column using dropdown "
   ]
  },
  {
   "cell_type": "code",
   "execution_count": null,
   "metadata": {},
   "outputs": [],
   "source": [
    "select = pn.widgets.Select(options=['A', 'B', 'C'])\n",
    "curve = hv.Curve((np.arange(100), *np.random.randn(3, 100).cumsum(axis=1)), vdims=['A', 'B', 'C']).options(tools=['hover'])\n",
    "\n",
    "code=\"\"\"\n",
    "glyph.y = {'field': source.value}\n",
    "yaxis.axis_label = source.value\n",
    "array = cds.data[source.value]\n",
    "y_range.start = Math.min.apply(null, array)\n",
    "y_range.end = Math.max.apply(null, array)\n",
    "\"\"\"\n",
    "WidgetLink(select, curve, code=code)\n",
    "\n",
    "pn.Row(curve, select)"
   ]
  },
  {
   "cell_type": "code",
   "execution_count": null,
   "metadata": {},
   "outputs": [],
   "source": []
  }
 ],
 "metadata": {
  "kernelspec": {
   "display_name": "Python 3",
   "language": "python",
   "name": "python3"
  },
  "language_info": {
   "codemirror_mode": {
    "name": "ipython",
    "version": 3
   },
   "file_extension": ".py",
   "mimetype": "text/x-python",
   "name": "python",
   "nbconvert_exporter": "python",
   "pygments_lexer": "ipython3",
   "version": "3.6.4"
  }
 },
 "nbformat": 4,
 "nbformat_minor": 2
}
