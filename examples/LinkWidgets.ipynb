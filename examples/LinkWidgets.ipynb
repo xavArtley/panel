{
 "cells": [
  {
   "cell_type": "markdown",
   "metadata": {},
   "source": [
    "# Objective try to make widget link notebook from philipp works again "
   ]
  },
  {
   "cell_type": "markdown",
   "metadata": {},
   "source": [
    "## We need to make a function findlinks processing widgets and discovering links with holoviews objects"
   ]
  },
  {
   "cell_type": "markdown",
   "metadata": {},
   "source": [
    "Access to the notebook with widget links : [notebook](https://anaconda.org/philippjfr/widgetlinks/notebook)"
   ]
  },
  {
   "cell_type": "code",
   "execution_count": null,
   "metadata": {},
   "outputs": [],
   "source": [
    "import param\n",
    "import panel as pn\n",
    "import numpy as np\n",
    "import holoviews as hv\n",
    "\n",
    "hv.Store.current_backend = 'bokeh'\n",
    "\n",
    "pn.extension()"
   ]
  },
  {
   "cell_type": "code",
   "execution_count": null,
   "metadata": {},
   "outputs": [],
   "source": [
    "from panel.widgetlinks import WidgetLink\n",
    "size_widget = pn.widgets.FloatSlider(value=5, start=3, end=20, name='Size')\n",
    "color_widget = pn.widgets.TextInput(value='black', name='Color')\n",
    "\n",
    "points = hv.Points(np.random.rand(10, 2)).options(padding=0.1)\n",
    "WidgetLink(size_widget, points, target_model='glyph', target_property='size')\n",
    "WidgetLink(color_widget, points, target_model='glyph', target_property='fill_color')\n",
    "pn.Row(points, points, pn.layout.WidgetBox(size_widget, color_widget))"
   ]
  },
  {
   "cell_type": "code",
   "execution_count": null,
   "metadata": {},
   "outputs": [],
   "source": [
    "range_widget = pn.widgets.RangeSlider(value=(0, 1000), start=0, end=1000, name='x-axis range')\n",
    "curve = hv.Curve(np.random.randn(1000).cumsum()).options(width=500)\n",
    "\n",
    "code = \"\"\"\n",
    "x_range.start = source.value[0]\n",
    "x_range.end = source.value[1]\n",
    "\"\"\"\n",
    "WidgetLink(range_widget, curve, code=code)\n",
    "\n",
    "pn.Row(curve, range_widget)"
   ]
  },
  {
   "cell_type": "code",
   "execution_count": null,
   "metadata": {},
   "outputs": [],
   "source": [
    "range_widget = pn.widgets.RangeSlider(value=(-2, 2), start=-2., end=2., name='color range')\n",
    "ys, xs = np.mgrid[0:100, 0:100]/20\n",
    "img = hv.Image(np.sin(xs*ys)+np.cos(xs*ys**2)).options(colorbar=True, width=400)\n",
    "\n",
    "code = \"\"\"\n",
    "color_mapper.low = source.value[0]\n",
    "color_mapper.high = source.value[1]\n",
    "\"\"\"\n",
    "WidgetLink(range_widget, img, code=code)\n",
    "\n",
    "pn.Row(img, range_widget)"
   ]
  }
 ],
 "metadata": {
  "kernelspec": {
   "display_name": "Python 3",
   "language": "python",
   "name": "python3"
  },
  "language_info": {
   "codemirror_mode": {
    "name": "ipython",
    "version": 3
   },
   "file_extension": ".py",
   "mimetype": "text/x-python",
   "name": "python",
   "nbconvert_exporter": "python",
   "pygments_lexer": "ipython3",
   "version": "3.6.4"
  }
 },
 "nbformat": 4,
 "nbformat_minor": 2
}
